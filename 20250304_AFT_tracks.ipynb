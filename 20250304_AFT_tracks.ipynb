{
 "cells": [
  {
   "cell_type": "markdown",
   "id": "f9d5cc59-2933-4b81-9aa2-b6bca4252d0d",
   "metadata": {},
   "source": [
    "### Import libraries"
   ]
  },
  {
   "cell_type": "code",
   "execution_count": 44,
   "id": "65fe9151-0548-4622-829c-fd34e1904877",
   "metadata": {},
   "outputs": [],
   "source": [
    "import matplotlib.pyplot as plt\n",
    "import pandas as pd\n",
    "import numpy as np\n",
    "import glob\n",
    "from skimage import io\n",
    "import sys\n",
    "import seaborn as sns\n",
    "from scipy import spatial\n",
    "import warnings"
   ]
  },
  {
   "cell_type": "code",
   "execution_count": 2,
   "id": "0bda84fc-9b8c-45dc-9c68-359cb19fea2a",
   "metadata": {},
   "outputs": [],
   "source": [
    "sys.path.insert(1, \"/Users/k1801626/OneDrive - King's College London/git/AFT-Alignment_by_Fourier_Transform/Python_implementation/\")\n",
    "import AFT_tools as AFT       "
   ]
  },
  {
   "cell_type": "code",
   "execution_count": 45,
   "id": "296769ee-8b67-4c37-927c-8c297ac270f1",
   "metadata": {},
   "outputs": [],
   "source": [
    "np.seterr(divide='ignore', invalid='ignore')\n",
    "warnings.filterwarnings(action='ignore', message='Mean of empty slice')"
   ]
  },
  {
   "cell_type": "markdown",
   "id": "0ff77ffb-734c-4932-9e36-ad2c43288ba6",
   "metadata": {},
   "source": [
    "### Import data (csv tracks and images)"
   ]
  },
  {
   "cell_type": "code",
   "execution_count": 53,
   "id": "1f43f5f3-06a5-40df-86b3-8caec8d60abe",
   "metadata": {},
   "outputs": [],
   "source": [
    "csv_folder = \"/Users/k1801626/OneDrive - King's College London/data/JP/AFT_track/\"\n",
    "image_folder = \"/Users/k1801626/OneDrive - King's College London/data/JP/AFT_track/siCCt8_si8/\""
   ]
  },
  {
   "cell_type": "code",
   "execution_count": 5,
   "id": "5a34950a-7c05-4a54-a1a0-ad3eb311acfe",
   "metadata": {},
   "outputs": [
    {
     "name": "stdout",
     "output_type": "stream",
     "text": [
      "/Users/k1801626/OneDrive - King's College London/data/JP/AFT_track/merged_Spots.csv\n"
     ]
    }
   ],
   "source": [
    "spots_list = glob.glob(csv_folder+'*Spots.csv')\n",
    "\n",
    "print(*spots_list, sep=\"\\n\")"
   ]
  },
  {
   "cell_type": "code",
   "execution_count": 54,
   "id": "82e6f4be-5b31-4bb1-a42b-3021cc233808",
   "metadata": {},
   "outputs": [
    {
     "name": "stdout",
     "output_type": "stream",
     "text": [
      "/Users/k1801626/OneDrive - King's College London/data/JP/AFT_track/siCCt8_si8/Position_31_AFT.tif\n",
      "/Users/k1801626/OneDrive - King's College London/data/JP/AFT_track/siCCt8_si8/Position_33_AFT.tif\n"
     ]
    }
   ],
   "source": [
    "image_list = glob.glob(image_folder+'*.tif')\n",
    "\n",
    "print(*image_list, sep=\"\\n\")"
   ]
  },
  {
   "cell_type": "markdown",
   "id": "bf968c5e-7223-4099-a8fa-a00eb471514e",
   "metadata": {},
   "source": [
    "### Parameters"
   ]
  },
  {
   "cell_type": "code",
   "execution_count": 8,
   "id": "f6fda941-7282-451c-9753-0761407c83a4",
   "metadata": {},
   "outputs": [],
   "source": [
    "output_image_folder = csv_folder+'output_images/'"
   ]
  },
  {
   "cell_type": "code",
   "execution_count": 9,
   "id": "403d9332-afc1-40d4-90cc-76264a522dad",
   "metadata": {},
   "outputs": [],
   "source": [
    "single_frame = True"
   ]
  },
  {
   "cell_type": "code",
   "execution_count": 11,
   "id": "4150bad4-7624-4d33-9933-5d890d9241b5",
   "metadata": {},
   "outputs": [],
   "source": [
    "#### required AFT parameters ####\n",
    "window_size = 100\n",
    "overlap = 0.6\n",
    "neighborhood_radius = 5\n",
    "\n",
    "#### optional parameters ####\n",
    "intensity_thresh = 0\n",
    "eccentricity_thresh = 0\n",
    "im_mask = None"
   ]
  },
  {
   "cell_type": "markdown",
   "id": "6107860c-8b6a-489b-997a-4b208471b5dc",
   "metadata": {},
   "source": [
    "### Load data"
   ]
  },
  {
   "cell_type": "code",
   "execution_count": 12,
   "id": "de4fbc94-0c0d-494e-977a-18a8ef74f6e8",
   "metadata": {},
   "outputs": [
    {
     "data": {
      "text/html": [
       "<div>\n",
       "<style scoped>\n",
       "    .dataframe tbody tr th:only-of-type {\n",
       "        vertical-align: middle;\n",
       "    }\n",
       "\n",
       "    .dataframe tbody tr th {\n",
       "        vertical-align: top;\n",
       "    }\n",
       "\n",
       "    .dataframe thead th {\n",
       "        text-align: right;\n",
       "    }\n",
       "</style>\n",
       "<table border=\"1\" class=\"dataframe\">\n",
       "  <thead>\n",
       "    <tr style=\"text-align: right;\">\n",
       "      <th></th>\n",
       "      <th>LABEL</th>\n",
       "      <th>ID</th>\n",
       "      <th>TRACK_ID</th>\n",
       "      <th>QUALITY</th>\n",
       "      <th>POSITION_X</th>\n",
       "      <th>POSITION_Y</th>\n",
       "      <th>POSITION_Z</th>\n",
       "      <th>POSITION_T</th>\n",
       "      <th>FRAME</th>\n",
       "      <th>RADIUS</th>\n",
       "      <th>...</th>\n",
       "      <th>PERIMETER</th>\n",
       "      <th>CIRCULARITY</th>\n",
       "      <th>SOLIDITY</th>\n",
       "      <th>SHAPE_INDEX</th>\n",
       "      <th>File_name_raw</th>\n",
       "      <th>Condition</th>\n",
       "      <th>experiment_nb</th>\n",
       "      <th>File_name</th>\n",
       "      <th>Repeat</th>\n",
       "      <th>Unique_ID</th>\n",
       "    </tr>\n",
       "  </thead>\n",
       "  <tbody>\n",
       "    <tr>\n",
       "      <th>0</th>\n",
       "      <td>ID2560</td>\n",
       "      <td>2560</td>\n",
       "      <td>1</td>\n",
       "      <td>113788.0</td>\n",
       "      <td>446.481612</td>\n",
       "      <td>463.926373</td>\n",
       "      <td>0.0</td>\n",
       "      <td>26.0</td>\n",
       "      <td>26</td>\n",
       "      <td>190.336445</td>\n",
       "      <td>...</td>\n",
       "      <td>1850.608931</td>\n",
       "      <td>0.417613</td>\n",
       "      <td>0.884730</td>\n",
       "      <td>5.485520</td>\n",
       "      <td>Position_26</td>\n",
       "      <td>siCCT8_si5</td>\n",
       "      <td>R1</td>\n",
       "      <td>siCCT8_si5_R1_Position_26</td>\n",
       "      <td>1</td>\n",
       "      <td>siCCT8_si5_R1_Position_26_1</td>\n",
       "    </tr>\n",
       "    <tr>\n",
       "      <th>1</th>\n",
       "      <td>ID2435</td>\n",
       "      <td>2435</td>\n",
       "      <td>1</td>\n",
       "      <td>64912.0</td>\n",
       "      <td>186.902997</td>\n",
       "      <td>251.383041</td>\n",
       "      <td>0.0</td>\n",
       "      <td>1.0</td>\n",
       "      <td>1</td>\n",
       "      <td>143.727227</td>\n",
       "      <td>...</td>\n",
       "      <td>1103.639245</td>\n",
       "      <td>0.669551</td>\n",
       "      <td>0.961309</td>\n",
       "      <td>4.332246</td>\n",
       "      <td>Position_26</td>\n",
       "      <td>siCCT8_si5</td>\n",
       "      <td>R1</td>\n",
       "      <td>siCCT8_si5_R1_Position_26</td>\n",
       "      <td>1</td>\n",
       "      <td>siCCT8_si5_R1_Position_26_1</td>\n",
       "    </tr>\n",
       "    <tr>\n",
       "      <th>2</th>\n",
       "      <td>ID2563</td>\n",
       "      <td>2563</td>\n",
       "      <td>1</td>\n",
       "      <td>111268.0</td>\n",
       "      <td>432.193334</td>\n",
       "      <td>454.720643</td>\n",
       "      <td>0.0</td>\n",
       "      <td>27.0</td>\n",
       "      <td>27</td>\n",
       "      <td>188.187463</td>\n",
       "      <td>...</td>\n",
       "      <td>1845.354851</td>\n",
       "      <td>0.410564</td>\n",
       "      <td>0.845194</td>\n",
       "      <td>5.532409</td>\n",
       "      <td>Position_26</td>\n",
       "      <td>siCCT8_si5</td>\n",
       "      <td>R1</td>\n",
       "      <td>siCCT8_si5_R1_Position_26</td>\n",
       "      <td>1</td>\n",
       "      <td>siCCT8_si5_R1_Position_26_1</td>\n",
       "    </tr>\n",
       "    <tr>\n",
       "      <th>3</th>\n",
       "      <td>ID2437</td>\n",
       "      <td>2437</td>\n",
       "      <td>1</td>\n",
       "      <td>71143.0</td>\n",
       "      <td>230.466989</td>\n",
       "      <td>274.844695</td>\n",
       "      <td>0.0</td>\n",
       "      <td>4.0</td>\n",
       "      <td>4</td>\n",
       "      <td>150.484286</td>\n",
       "      <td>...</td>\n",
       "      <td>1161.466995</td>\n",
       "      <td>0.662717</td>\n",
       "      <td>0.959538</td>\n",
       "      <td>4.354525</td>\n",
       "      <td>Position_26</td>\n",
       "      <td>siCCT8_si5</td>\n",
       "      <td>R1</td>\n",
       "      <td>siCCT8_si5_R1_Position_26</td>\n",
       "      <td>1</td>\n",
       "      <td>siCCT8_si5_R1_Position_26_1</td>\n",
       "    </tr>\n",
       "    <tr>\n",
       "      <th>4</th>\n",
       "      <td>ID2565</td>\n",
       "      <td>2565</td>\n",
       "      <td>1</td>\n",
       "      <td>123560.0</td>\n",
       "      <td>441.649200</td>\n",
       "      <td>460.855612</td>\n",
       "      <td>0.0</td>\n",
       "      <td>28.0</td>\n",
       "      <td>28</td>\n",
       "      <td>198.340124</td>\n",
       "      <td>...</td>\n",
       "      <td>1885.321437</td>\n",
       "      <td>0.436928</td>\n",
       "      <td>0.854008</td>\n",
       "      <td>5.362902</td>\n",
       "      <td>Position_26</td>\n",
       "      <td>siCCT8_si5</td>\n",
       "      <td>R1</td>\n",
       "      <td>siCCT8_si5_R1_Position_26</td>\n",
       "      <td>1</td>\n",
       "      <td>siCCT8_si5_R1_Position_26_1</td>\n",
       "    </tr>\n",
       "  </tbody>\n",
       "</table>\n",
       "<p>5 rows × 37 columns</p>\n",
       "</div>"
      ],
      "text/plain": [
       "    LABEL    ID  TRACK_ID   QUALITY  POSITION_X  POSITION_Y  POSITION_Z  \\\n",
       "0  ID2560  2560         1  113788.0  446.481612  463.926373         0.0   \n",
       "1  ID2435  2435         1   64912.0  186.902997  251.383041         0.0   \n",
       "2  ID2563  2563         1  111268.0  432.193334  454.720643         0.0   \n",
       "3  ID2437  2437         1   71143.0  230.466989  274.844695         0.0   \n",
       "4  ID2565  2565         1  123560.0  441.649200  460.855612         0.0   \n",
       "\n",
       "   POSITION_T  FRAME      RADIUS  ...    PERIMETER  CIRCULARITY  SOLIDITY  \\\n",
       "0        26.0     26  190.336445  ...  1850.608931     0.417613  0.884730   \n",
       "1         1.0      1  143.727227  ...  1103.639245     0.669551  0.961309   \n",
       "2        27.0     27  188.187463  ...  1845.354851     0.410564  0.845194   \n",
       "3         4.0      4  150.484286  ...  1161.466995     0.662717  0.959538   \n",
       "4        28.0     28  198.340124  ...  1885.321437     0.436928  0.854008   \n",
       "\n",
       "   SHAPE_INDEX  File_name_raw   Condition  experiment_nb  \\\n",
       "0     5.485520    Position_26  siCCT8_si5             R1   \n",
       "1     4.332246    Position_26  siCCT8_si5             R1   \n",
       "2     5.532409    Position_26  siCCT8_si5             R1   \n",
       "3     4.354525    Position_26  siCCT8_si5             R1   \n",
       "4     5.362902    Position_26  siCCT8_si5             R1   \n",
       "\n",
       "                   File_name  Repeat                    Unique_ID  \n",
       "0  siCCT8_si5_R1_Position_26       1  siCCT8_si5_R1_Position_26_1  \n",
       "1  siCCT8_si5_R1_Position_26       1  siCCT8_si5_R1_Position_26_1  \n",
       "2  siCCT8_si5_R1_Position_26       1  siCCT8_si5_R1_Position_26_1  \n",
       "3  siCCT8_si5_R1_Position_26       1  siCCT8_si5_R1_Position_26_1  \n",
       "4  siCCT8_si5_R1_Position_26       1  siCCT8_si5_R1_Position_26_1  \n",
       "\n",
       "[5 rows x 37 columns]"
      ]
     },
     "execution_count": 12,
     "metadata": {},
     "output_type": "execute_result"
    }
   ],
   "source": [
    "df_spots = pd.read_csv(spots_list[0])\n",
    "df_spots.head()"
   ]
  },
  {
   "cell_type": "code",
   "execution_count": 14,
   "id": "ff252e92-0499-4964-98b2-b39ea3a953de",
   "metadata": {},
   "outputs": [
    {
     "name": "stdout",
     "output_type": "stream",
     "text": [
      "Position_26\n",
      "Position_27\n",
      "Position_31\n",
      "Position_33\n",
      "Position_6\n",
      "Position_12\n"
     ]
    }
   ],
   "source": [
    "movie_list = df_spots.File_name_raw.unique()\n",
    "print(*movie_list, sep=\"\\n\")"
   ]
  },
  {
   "cell_type": "markdown",
   "id": "9041742e-9d57-4d7d-bf2b-3026eb727794",
   "metadata": {},
   "source": [
    "### Find images for current experimental condition"
   ]
  },
  {
   "cell_type": "code",
   "execution_count": 55,
   "id": "56acfa31-b288-4e39-b2a3-a406dd0adcf8",
   "metadata": {},
   "outputs": [
    {
     "name": "stdout",
     "output_type": "stream",
     "text": [
      "['Position_31' 'Position_33']\n"
     ]
    }
   ],
   "source": [
    "im_list_current = []\n",
    "for im_file in range(len(image_list)):\n",
    "    temp_im_file = image_list[im_file].split(\"/\")[-1].split(\"_\",2)[:2]\n",
    "    temp_im_file = '_'.join(temp_im_file)\n",
    "    im_list_current = np.append(im_list_current, temp_im_file)\n",
    "\n",
    "print(im_list_current)"
   ]
  },
  {
   "cell_type": "code",
   "execution_count": 56,
   "id": "62a8d687-6ddc-44cb-8070-65e72b96d858",
   "metadata": {},
   "outputs": [
    {
     "name": "stdout",
     "output_type": "stream",
     "text": [
      "Image: Position_31 has dimensions [(t),y,x]: (1322, 1208)\n",
      "Image: Position_33 has dimensions [(t),y,x]: (1016, 1038)\n"
     ]
    }
   ],
   "source": [
    "for position in range(len(im_list_current)):\n",
    "\n",
    "    # load current image\n",
    "    im = io.imread(image_list[position])\n",
    "    if single_frame == True:\n",
    "        im = im[0,]\n",
    "\n",
    "    print('Image:', im_list_current[position], 'has dimensions [(t),y,x]:', im.shape)"
   ]
  },
  {
   "cell_type": "markdown",
   "id": "87f891fa-f685-41d1-9240-0b90c0c93bca",
   "metadata": {},
   "source": [
    "### Run analysis"
   ]
  },
  {
   "cell_type": "code",
   "execution_count": 57,
   "id": "0ed95c4e-e6b1-4644-ac19-081bef63d8f1",
   "metadata": {},
   "outputs": [],
   "source": [
    "df_subset_out = pd.DataFrame()\n",
    "for position in range(len(im_list_current)):\n",
    "\n",
    "    # load current image\n",
    "    im = io.imread(image_list[position])\n",
    "    if single_frame == True:\n",
    "        im = im[0,]\n",
    "\n",
    "    # run AFT on all (relevant) frames\n",
    "    x, y, u, v, im_theta, im_eccentricity = AFT.image_local_order(im, window_size, overlap, \n",
    "                                                                  im_mask, intensity_thresh, eccentricity_thresh, \n",
    "                                                                  plot_overlay=False, plot_angles=False, plot_eccentricity=False,\n",
    "                                                                  save_figures=False, save_path = '')\n",
    "\n",
    "    # get coords for AFT grid\n",
    "    AFT_coords = np.empty(shape=(len(x),2))\n",
    "    AFT_coords[:,0] = x\n",
    "    AFT_coords[:,1] = y\n",
    "\n",
    "    # get relevant part of spots csv\n",
    "    df_subset = df_spots.loc[df_spots.File_name_raw == im_list_current[position]]\n",
    "\n",
    "    # initialise df for ouput of track analysis\n",
    "    df_track_out = pd.DataFrame(columns = ['TRACK_ID','FRAME','track_angle','AFT_angle','AFT_track_angle','AFT_track_angle_cos2',\n",
    "                                    'track_angle_u', 'track_angle_v','AFT_angle_u','AFT_angle_v'])\n",
    "\n",
    "    # for each track\n",
    "    for trackID in range(len(df_subset.TRACK_ID.unique())):\n",
    "    \n",
    "        # create df for current track\n",
    "        df_track = df_subset.loc[df_subset.TRACK_ID == df_subset.TRACK_ID.unique()[trackID]]\n",
    "        df_track = df_track.sort_values(by='FRAME')\n",
    "        df_track = df_track.reset_index(drop=True)\n",
    "        df_track = df_track.drop_duplicates(subset=['FRAME'], ignore_index=True)\n",
    "    \n",
    "        # initialise output arrays\n",
    "        AFT_angle = []\n",
    "        track_angle = []\n",
    "        current_time_point = []\n",
    "    \n",
    "        # calculate angles for AFT and track\n",
    "        if single_frame == False:\n",
    "            for time_point in range(len(df_track)-1):\n",
    "                \n",
    "                track_current = [df_track.loc[time_point, 'POSITION_X'], df_track.loc[time_point, 'POSITION_Y']]\n",
    "                track_next = [df_track.loc[time_point+1, 'POSITION_X'], df_track.loc[time_point+1, 'POSITION_Y']]\n",
    "                \n",
    "                d_closest,idx_closest = spatial.KDTree(AFT_coords).query(track_current)\n",
    "                AFT_angle = np.append(AFT_angle, np.ravel(im_theta[time_point])[idx_closest])\n",
    "                \n",
    "                track_length = [track_next[0]-track_current[0], track_next[1]-track_current[1]]\n",
    "                track_norm = np.sqrt(track_length[0] ** 2 + track_length[1] ** 2)\n",
    "                track_direction = [track_length[0]/track_norm, track_length[1]/track_norm]\n",
    "                track_angle = np.append(track_angle, np.arctan2(track_direction[1], track_direction[0]))\n",
    "            \n",
    "                current_time_point = np.append(current_time_point, time_point)\n",
    "        else:\n",
    "            for time_point in range(len(df_track)-1):\n",
    "                \n",
    "                track_current = [df_track.loc[time_point, 'POSITION_X'], df_track.loc[time_point, 'POSITION_Y']]\n",
    "                track_next = [df_track.loc[time_point+1, 'POSITION_X'], df_track.loc[time_point+1, 'POSITION_Y']]\n",
    "                \n",
    "                d_closest,idx_closest = spatial.KDTree(AFT_coords).query(track_current)\n",
    "                AFT_angle = np.append(AFT_angle, np.ravel(im_theta)[idx_closest])\n",
    "                \n",
    "                track_length = [track_next[0]-track_current[0], track_next[1]-track_current[1]]\n",
    "                track_norm = np.sqrt(track_length[0] ** 2 + track_length[1] ** 2)\n",
    "                track_direction = [track_length[0]/track_norm, track_length[1]/track_norm]\n",
    "                track_angle = np.append(track_angle, np.arctan2(track_direction[1], track_direction[0]))\n",
    "            \n",
    "                current_time_point = np.append(current_time_point, time_point)\n",
    "    \n",
    "        # calculate angle difference and cosine squared of the angle difference\n",
    "        AFT_track_angle = AFT_angle-track_angle\n",
    "        AFT_track_angle_cos2 = np.cos(AFT_track_angle) ** 2\n",
    "\n",
    "        # create temporary df\n",
    "        df_out = pd.DataFrame(columns = ['TRACK_ID','FRAME','track_angle','AFT_angle','AFT_track_angle','AFT_track_angle_cos2',\n",
    "                                    'track_angle_u', 'track_angle_v','AFT_angle_u','AFT_angle_v'])\n",
    "    \n",
    "        df_out.TRACK_ID = np.full((len(df_track)-1, ), df_subset.TRACK_ID.unique()[trackID])\n",
    "        df_out.FRAME = current_time_point\n",
    "        df_out.track_angle = track_angle\n",
    "        df_out.AFT_angle = AFT_angle\n",
    "        df_out.AFT_track_angle = AFT_track_angle\n",
    "        df_out.AFT_track_angle_cos2 = AFT_track_angle_cos2\n",
    "        \n",
    "        df_out.track_angle_u = np.cos(track_angle)\n",
    "        df_out.track_angle_v = np.sin(track_angle)\n",
    "        df_out.AFT_angle_u = np.cos(AFT_angle)\n",
    "        df_out.AFT_angle_v = np.sin(AFT_angle)\n",
    "\n",
    "        df_out_merge = pd.merge(df_track, df_out, on=['TRACK_ID','FRAME'], how='outer')\n",
    "\n",
    "        # concatenate output df\n",
    "        df_list = [df_track_out, df_out_merge]\n",
    "        df_track_out = pd.concat([df_track_out for df_track_out in df_list if not df_track_out.empty])\n",
    "\n",
    "    df_list1 = [df_subset_out, df_track_out]\n",
    "    df_subset_out = pd.concat([df_subset_out for df_subset_out in df_list1 if not df_subset_out.empty])"
   ]
  },
  {
   "cell_type": "code",
   "execution_count": 58,
   "id": "ab3ee841-a922-4784-8af2-b8864e1d5bbc",
   "metadata": {},
   "outputs": [],
   "source": [
    "# save to csv\n",
    "file_name = df_subset_out.Condition.unique()[0]+'_Spots_AFT_single_frame_'+str(single_frame)+'.csv'\n",
    "df_subset_out.to_csv(image_folder+file_name)"
   ]
  },
  {
   "cell_type": "markdown",
   "id": "fd465e2d-7c68-477d-97ea-9b20c52b5abc",
   "metadata": {},
   "source": [
    "### Plot\n",
    "\n",
    "##### Plot original fibre image with colour-coded track overlay"
   ]
  },
  {
   "cell_type": "code",
   "execution_count": 41,
   "id": "20488195-6027-436f-83dd-d4fc82adde8f",
   "metadata": {},
   "outputs": [],
   "source": [
    "cmap = plt.get_cmap('hsv')\n",
    "for position in range(len(im_list_current)):\n",
    "    # load current image\n",
    "    im = io.imread(image_list[position])\n",
    "    if single_frame == True:\n",
    "        im = im[0,]\n",
    "    \n",
    "    # run AFT on all (relevant) frames\n",
    "    x, y, u, v, im_theta, im_eccentricity = AFT.image_local_order(im, window_size, overlap, \n",
    "                                                                  im_mask, intensity_thresh, eccentricity_thresh, \n",
    "                                                                  plot_overlay=False, plot_angles=False, plot_eccentricity=False,\n",
    "                                                                  save_figures=False, save_path = '')\n",
    "    \n",
    "    # get relevant part of subset_out df\n",
    "    df_temp = df_subset_out.loc[df_subset_out.File_name_raw == im_list_current[position]]\n",
    "\n",
    "    if single_frame == False:\n",
    "        # for each timepoint\n",
    "        for time_point in range(len(df_temp.FRAME.unique())-1):\n",
    "            plt.figure(frameon = False)\n",
    "            plt.imshow(im[time_point,], cmap='gray')\n",
    "            for track in range(len(df_temp.TRACK_ID.unique())):\n",
    "                plt.plot(df_temp.loc[df_temp.TRACK_ID == df_temp.TRACK_ID.unique()[track]]['POSITION_X'], df_temp.loc[df_temp.TRACK_ID == df_temp.TRACK_ID.unique()[track]]['POSITION_Y'], linewidth=1, color='w')\n",
    "        \n",
    "            plt.quiver(x,y,u[time_point],v[time_point], color='yellow', pivot='mid', scale_units='xy', \n",
    "                       scale=overlap, headaxislength=0, headlength=0, width=0.005, alpha=0.4)\n",
    "            plt.plot(df_temp.loc[time_point,'POSITION_X'], df_temp.loc[time_point,'POSITION_Y'], \n",
    "                     marker='o', linestyle='None', color=cmap(time_point*2))\n",
    "            plt.axis('off')\n",
    "            file_name = df_temp.Condition.unique()[0]+'_'+df_temp.File_name_raw.unique()[0]+'_Overlay_AFT_single_frame_'+str(single_frame)+'_frame_'+str(time_point)+'.png'\n",
    "            plt.savefig(output_image_folder+file_name, dpi=300, bbox_inches='tight')\n",
    "            plt.close()  \n",
    "    else:\n",
    "        # for each timepoint\n",
    "        for time_point in range(len(df_temp.FRAME.unique())-1):\n",
    "            plt.figure(frameon = False)\n",
    "            plt.imshow(im, cmap='gray')\n",
    "            for track in range(len(df_temp.TRACK_ID.unique())):\n",
    "                plt.plot(df_temp.loc[df_temp.TRACK_ID == df_temp.TRACK_ID.unique()[track]]['POSITION_X'], df_temp.loc[df_temp.TRACK_ID == df_temp.TRACK_ID.unique()[track]]['POSITION_Y'], linewidth=1, color='w')\n",
    "        \n",
    "            plt.quiver(x,y,u,v, color='yellow', pivot='mid', scale_units='xy', \n",
    "                       scale=overlap, headaxislength=0, headlength=0, width=0.005, alpha=0.4)\n",
    "            plt.plot(df_temp.loc[time_point,'POSITION_X'], df_temp.loc[time_point,'POSITION_Y'], \n",
    "                     marker='o', linestyle='None', color=cmap(time_point*2))\n",
    "            plt.axis('off')\n",
    "            file_name = df_temp.Condition.unique()[0]+'_'+df_temp.File_name_raw.unique()[0]+'_Overlay_AFT_single_frame_'+str(single_frame)+'_frame_'+str(time_point)+'.png'\n",
    "            plt.savefig(output_image_folder+file_name, dpi=300, bbox_inches='tight')\n",
    "            plt.close()"
   ]
  },
  {
   "cell_type": "markdown",
   "id": "ed19bc6a-3103-4798-91de-a889a84b2c42",
   "metadata": {},
   "source": [
    "##### Plot track with trajectory and alignment vectors"
   ]
  },
  {
   "cell_type": "code",
   "execution_count": 46,
   "id": "34a773f7-98e2-4695-89ee-c419bd7adc47",
   "metadata": {},
   "outputs": [],
   "source": [
    "for position in range(len(im_list_current)):\n",
    "    \n",
    "    # get relevant part of subset_out df\n",
    "    df_temp = df_subset_out.loc[df_subset_out.File_name_raw == im_list_current[position]]\n",
    "    \n",
    "    # for each track (plot track and AFT vectors)\n",
    "    for track in range(len(df_temp.TRACK_ID.unique())):\n",
    "        df_temp_track = df_temp.loc[df_temp.TRACK_ID == df_temp.TRACK_ID.unique()[track]]\n",
    "        df_temp_track = df_temp_track.reset_index()\n",
    "\n",
    "        # plot track vectors\n",
    "        plt.plot(df_temp_track['POSITION_X'], df_temp_track['POSITION_Y'], linewidth=1, color='k', alpha = 0.2)\n",
    "        # for each timepoint\n",
    "        for time_point in range(len(df_temp_track.FRAME.unique())-1):\n",
    "            plt.plot(df_temp_track.loc[time_point,'POSITION_X'], df_temp_track.loc[time_point,'POSITION_Y'], marker='o', color=cmap(time_point*2))\n",
    "            plt.quiver(df_temp_track.loc[time_point,'POSITION_X'],df_temp_track.loc[time_point,'POSITION_Y'],df_temp_track.loc[time_point,'track_angle_u'], \n",
    "                       df_temp_track.loc[time_point,'track_angle_v'], color=cmap(time_point*2), angles='xy', width=0.004)\n",
    "    \n",
    "        plt.axis('equal')\n",
    "        plt.gca().invert_yaxis()\n",
    "        file_name = df_temp.Condition.unique()[0]+'_'+df_temp.File_name_raw.unique()[0]+'_Track_Vectors_AFT_single_frame_'+str(single_frame)+'_track_'+str(track)+'.png'\n",
    "        plt.savefig(output_image_folder+file_name, dpi=300, bbox_inches='tight')\n",
    "        plt.close() \n",
    "\n",
    "        # plot AFT vectors\n",
    "        plt.plot(df_temp_track['POSITION_X'], df_temp_track['POSITION_Y'], linewidth=1, color='k', alpha = 0.2)\n",
    "        # for each timepoint\n",
    "        for time_point in range(len(df_temp_track.FRAME.unique())-1):\n",
    "            plt.plot(df_temp_track.loc[time_point,'POSITION_X'], df_temp_track.loc[time_point,'POSITION_Y'], marker='o', color=cmap(time_point*2), alpha=0.6)\n",
    "            \n",
    "        plt.quiver(df_temp_track.POSITION_X,df_temp_track.POSITION_Y,\n",
    "                   df_temp_track.AFT_angle_u, df_temp_track.AFT_angle_v, color='k', \n",
    "                   pivot='mid', headaxislength=0, headlength=0, width=0.004)\n",
    "        plt.axis('equal')\n",
    "        plt.gca().invert_yaxis()\n",
    "        file_name = df_temp.Condition.unique()[0]+'_'+df_temp.File_name_raw.unique()[0]+'_Track_Alignment_AFT_single_frame_'+str(single_frame)+'_track_'+str(track)+'.png'\n",
    "        plt.savefig(output_image_folder+file_name, dpi=300, bbox_inches='tight')\n",
    "        plt.close() \n",
    "\n",
    "   "
   ]
  },
  {
   "cell_type": "code",
   "execution_count": null,
   "id": "f026c64d-52fc-4ebc-bfca-0a8e86aa5fe2",
   "metadata": {},
   "outputs": [],
   "source": []
  },
  {
   "cell_type": "code",
   "execution_count": null,
   "id": "c246e9b2-3a64-4477-9471-55bd2c5a2446",
   "metadata": {},
   "outputs": [],
   "source": []
  },
  {
   "cell_type": "code",
   "execution_count": null,
   "id": "dcb65f6c-526b-47e5-8497-9c823c07c8e1",
   "metadata": {},
   "outputs": [],
   "source": []
  },
  {
   "cell_type": "code",
   "execution_count": null,
   "id": "06bf5281-cfa7-417a-b94c-429a83f8bd62",
   "metadata": {},
   "outputs": [],
   "source": []
  },
  {
   "cell_type": "code",
   "execution_count": null,
   "id": "9b3ed4ee-4bc3-4b52-83e3-3693200f9620",
   "metadata": {},
   "outputs": [],
   "source": []
  },
  {
   "cell_type": "code",
   "execution_count": null,
   "id": "868f8202-d95c-4fe2-972e-81a3f3d5b5eb",
   "metadata": {},
   "outputs": [],
   "source": []
  },
  {
   "cell_type": "code",
   "execution_count": null,
   "id": "af936bf2-30b0-48ec-97cb-d1607842cdca",
   "metadata": {},
   "outputs": [],
   "source": []
  },
  {
   "cell_type": "code",
   "execution_count": null,
   "id": "3f258489-e926-41de-bcf2-b781099c5972",
   "metadata": {},
   "outputs": [],
   "source": []
  },
  {
   "cell_type": "code",
   "execution_count": null,
   "id": "7b5a560d-56f8-4d7c-bee5-d61d61b92ffc",
   "metadata": {},
   "outputs": [],
   "source": []
  },
  {
   "cell_type": "code",
   "execution_count": null,
   "id": "5e49db70-3a6b-4ea4-a332-92e8b08626ae",
   "metadata": {},
   "outputs": [],
   "source": []
  },
  {
   "cell_type": "code",
   "execution_count": null,
   "id": "c91727ed-7a4c-446b-8794-fa4ca061c281",
   "metadata": {},
   "outputs": [],
   "source": []
  },
  {
   "cell_type": "code",
   "execution_count": null,
   "id": "122f0098-218d-4ffa-a71a-99bc3e516e4a",
   "metadata": {},
   "outputs": [],
   "source": []
  },
  {
   "cell_type": "markdown",
   "id": "9f79c207-c9a6-468f-8102-cfe32944a1df",
   "metadata": {},
   "source": [
    "### Calculate average cos2 per track"
   ]
  },
  {
   "cell_type": "code",
   "execution_count": null,
   "id": "3845c837-0e32-4a18-9f4b-109c684542f8",
   "metadata": {},
   "outputs": [],
   "source": [
    "file_list = glob.glob(csv_folder+'*/AFT_tracks_df_out.xlsx')\n",
    "\n",
    "print(*file_list, sep=\"\\n\")"
   ]
  },
  {
   "cell_type": "code",
   "execution_count": null,
   "id": "8d4fc6b7-a40f-4af1-8567-5f9e5abe407d",
   "metadata": {},
   "outputs": [],
   "source": [
    "df_all = pd.DataFrame()\n",
    "\n",
    "for df in range(len(file_list)):\n",
    "    df_temp = pd.read_excel(file_list[df])\n",
    "\n",
    "    df_list = [df_all, df_temp]\n",
    "    df_all = pd.concat([df_all for df_all in df_list if not df_all.empty])"
   ]
  },
  {
   "cell_type": "code",
   "execution_count": null,
   "id": "dbe4a151-1e29-4d81-93d5-5d39f9c8b36f",
   "metadata": {},
   "outputs": [],
   "source": [
    "df_all.to_excel(csv_folder+'merged_Spots_AFT.xlsx')"
   ]
  },
  {
   "cell_type": "code",
   "execution_count": null,
   "id": "c4f2762b-2692-437f-ac05-4a139d20a0a2",
   "metadata": {},
   "outputs": [],
   "source": [
    "df_all.Unique_ID.unique()"
   ]
  },
  {
   "cell_type": "code",
   "execution_count": null,
   "id": "b826e2fa-58b7-4741-8cc3-243e51e716a9",
   "metadata": {},
   "outputs": [],
   "source": [
    "av_cos2 = []\n",
    "for uniqueID in range(len(df_all.Unique_ID.unique())):\n",
    "    df_temp = df_all.loc[df_all.Unique_ID == df_all.Unique_ID.unique()[uniqueID]]\n",
    "    av_cos2 = np.append(av_cos2, df_temp.AFT_track_angle_cos2.mean())\n",
    "av_cos2\n"
   ]
  },
  {
   "cell_type": "code",
   "execution_count": null,
   "id": "de05af75-a2f2-4789-8cc1-8e8fca4e0adf",
   "metadata": {},
   "outputs": [],
   "source": [
    "df_subset_out_tracks = pd.DataFrame(columns = ['Unique_ID','AFT_tracks_cos2_mean'])\n",
    "\n",
    "df_subset_out_tracks.Unique_ID = df_all.Unique_ID.unique()\n",
    "df_subset_out_tracks.AFT_tracks_cos2_mean = av_cos2\n",
    "\n",
    "df_subset_out_tracks"
   ]
  },
  {
   "cell_type": "code",
   "execution_count": null,
   "id": "f81695ba-e6e7-4a49-9a37-ffd867fb958d",
   "metadata": {},
   "outputs": [],
   "source": [
    "df_tracks_out = pd.merge(df_tracks, df_subset_out_tracks, on='Unique_ID', how='outer')\n",
    "\n",
    "df_tracks_out.head()                     "
   ]
  },
  {
   "cell_type": "code",
   "execution_count": null,
   "id": "abbb8a6c-de6e-4bd4-91d3-3890a770d49a",
   "metadata": {},
   "outputs": [],
   "source": [
    "df_tracks_out.to_excel(csv_folder+'merged_Tracks_AFT.xlsx')"
   ]
  },
  {
   "cell_type": "code",
   "execution_count": null,
   "id": "f5f6d6a6-8d54-4ac9-9b90-7b381cbf16e0",
   "metadata": {},
   "outputs": [],
   "source": []
  },
  {
   "cell_type": "code",
   "execution_count": null,
   "id": "b1cced1f-f4e6-4872-b814-56068f1329b2",
   "metadata": {},
   "outputs": [],
   "source": []
  },
  {
   "cell_type": "code",
   "execution_count": null,
   "id": "c4394a32-ffd3-45a4-9ea9-e791155f1dbd",
   "metadata": {},
   "outputs": [],
   "source": []
  },
  {
   "cell_type": "code",
   "execution_count": null,
   "id": "d8a2343e-a154-426d-956d-7af6c12bb2cc",
   "metadata": {},
   "outputs": [],
   "source": []
  },
  {
   "cell_type": "code",
   "execution_count": null,
   "id": "055499b7-2f6f-4066-9385-dffe69795e5f",
   "metadata": {},
   "outputs": [],
   "source": []
  },
  {
   "cell_type": "code",
   "execution_count": null,
   "id": "cadcd30f-a4bf-4aab-9cb6-680594a2f54c",
   "metadata": {},
   "outputs": [],
   "source": []
  },
  {
   "cell_type": "code",
   "execution_count": null,
   "id": "a4d43566-5a32-422b-a25f-d76ae991de57",
   "metadata": {},
   "outputs": [],
   "source": []
  },
  {
   "cell_type": "code",
   "execution_count": null,
   "id": "40fb23bb-13bc-4e70-8604-ce3da8741f5a",
   "metadata": {},
   "outputs": [],
   "source": []
  },
  {
   "cell_type": "code",
   "execution_count": null,
   "id": "314905c8-68cc-416c-887e-ce0562a4bc67",
   "metadata": {},
   "outputs": [],
   "source": []
  },
  {
   "cell_type": "code",
   "execution_count": null,
   "id": "06607f81-a41b-452d-8353-b78d23f17f6f",
   "metadata": {},
   "outputs": [],
   "source": []
  },
  {
   "cell_type": "code",
   "execution_count": null,
   "id": "91a617f7-2773-4f7d-aa95-38d431b68626",
   "metadata": {},
   "outputs": [],
   "source": []
  },
  {
   "cell_type": "code",
   "execution_count": null,
   "id": "c7a0ee9a-a256-4e74-9673-981ed402704e",
   "metadata": {},
   "outputs": [],
   "source": []
  },
  {
   "cell_type": "code",
   "execution_count": null,
   "id": "2498aea0-02de-4daa-aab4-5528201274a4",
   "metadata": {},
   "outputs": [],
   "source": []
  },
  {
   "cell_type": "code",
   "execution_count": null,
   "id": "a2cc54d3-a667-484c-89d3-e64d962dd7e6",
   "metadata": {},
   "outputs": [],
   "source": []
  },
  {
   "cell_type": "code",
   "execution_count": null,
   "id": "18d160c9-5b76-41d6-9bf7-da78724d3cc3",
   "metadata": {},
   "outputs": [],
   "source": []
  },
  {
   "cell_type": "code",
   "execution_count": null,
   "id": "436fcb82-8c0f-477d-b4a5-d5ce4e5de1fc",
   "metadata": {},
   "outputs": [],
   "source": []
  },
  {
   "cell_type": "code",
   "execution_count": null,
   "id": "6af58c69-9f4e-474c-9dbf-7243a556da84",
   "metadata": {},
   "outputs": [],
   "source": []
  },
  {
   "cell_type": "code",
   "execution_count": null,
   "id": "4e2b3b04-dc66-44f9-b22d-22a46273a0de",
   "metadata": {},
   "outputs": [],
   "source": []
  }
 ],
 "metadata": {
  "kernelspec": {
   "display_name": "Python 3 (ipykernel)",
   "language": "python",
   "name": "python3"
  },
  "language_info": {
   "codemirror_mode": {
    "name": "ipython",
    "version": 3
   },
   "file_extension": ".py",
   "mimetype": "text/x-python",
   "name": "python",
   "nbconvert_exporter": "python",
   "pygments_lexer": "ipython3",
   "version": "3.10.16"
  }
 },
 "nbformat": 4,
 "nbformat_minor": 5
}
